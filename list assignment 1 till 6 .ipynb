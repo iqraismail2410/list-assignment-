{
 "cells": [
  {
   "cell_type": "code",
   "execution_count": null,
   "id": "ff87b286",
   "metadata": {},
   "outputs": [],
   "source": [
    "Question 1: Basic List Operations\n",
    "\n",
    "Create a list named fruits containing the following items: \"apple\", \"banana\", \"orange\", \"grape\", \"kiwi\".\n",
    "\n",
    "Add \"pear\" to the end of the list.\n",
    "\n",
    "Insert \"mango\" at the second position in the list.\n",
    "\n",
    "Remove \"orange\" from the list.\n"
   ]
  },
  {
   "cell_type": "code",
   "execution_count": 6,
   "id": "6f663437",
   "metadata": {},
   "outputs": [
    {
     "data": {
      "text/plain": [
       "['apple', 'banana', 'orange', 'grape', 'kiwi', 'pear']"
      ]
     },
     "execution_count": 6,
     "metadata": {},
     "output_type": "execute_result"
    }
   ],
   "source": [
    "fruits = [\"apple\", \"banana\", \"orange\", \"grape\", \"kiwi\"]\n",
    "fruits.append(\"pear\")\n",
    "fruits"
   ]
  },
  {
   "cell_type": "code",
   "execution_count": 7,
   "id": "2bb0d4cd",
   "metadata": {},
   "outputs": [
    {
     "data": {
      "text/plain": [
       "['apple', 'banana', 'mango', 'orange', 'grape', 'kiwi', 'pear']"
      ]
     },
     "execution_count": 7,
     "metadata": {},
     "output_type": "execute_result"
    }
   ],
   "source": [
    "fruits.insert(2,\"mango\")\n",
    "fruits"
   ]
  },
  {
   "cell_type": "code",
   "execution_count": 8,
   "id": "b74c2409",
   "metadata": {},
   "outputs": [
    {
     "data": {
      "text/plain": [
       "['apple', 'banana', 'mango', 'grape', 'kiwi', 'pear']"
      ]
     },
     "execution_count": 8,
     "metadata": {},
     "output_type": "execute_result"
    }
   ],
   "source": [
    "fruits.remove(\"orange\")\n",
    "fruits"
   ]
  },
  {
   "cell_type": "code",
   "execution_count": null,
   "id": "90702c19",
   "metadata": {},
   "outputs": [],
   "source": [
    "Question 2: Slicing and Indexing\n",
    "\n",
    "Create a list named numbers containing the integers from 0 to 9.\n",
    "\n",
    "Print the element at index 3.\n",
    "\n",
    "Print a sublist containing the elements from index 2 to 6 (inclusive).\n",
    "\n",
    "Print the last three elements using negative indexing."
   ]
  },
  {
   "cell_type": "code",
   "execution_count": 9,
   "id": "7c9e4bf0",
   "metadata": {},
   "outputs": [
    {
     "data": {
      "text/plain": [
       "[0, 1, 2, 3, 4, 5, 6, 7, 8, 9]"
      ]
     },
     "execution_count": 9,
     "metadata": {},
     "output_type": "execute_result"
    }
   ],
   "source": [
    "numbers = list(range(0,10))\n",
    "numbers"
   ]
  },
  {
   "cell_type": "code",
   "execution_count": 10,
   "id": "f9813e49",
   "metadata": {},
   "outputs": [
    {
     "name": "stdout",
     "output_type": "stream",
     "text": [
      "3\n"
     ]
    }
   ],
   "source": [
    "print(numbers[3])"
   ]
  },
  {
   "cell_type": "code",
   "execution_count": 11,
   "id": "c0210e8d",
   "metadata": {},
   "outputs": [
    {
     "name": "stdout",
     "output_type": "stream",
     "text": [
      "[2, 3, 4, 5, 6]\n"
     ]
    }
   ],
   "source": [
    "print(numbers[2:7])"
   ]
  },
  {
   "cell_type": "code",
   "execution_count": 12,
   "id": "b00f9de6",
   "metadata": {},
   "outputs": [
    {
     "name": "stdout",
     "output_type": "stream",
     "text": [
      "[7, 8, 9]\n"
     ]
    }
   ],
   "source": [
    "print(numbers[-3:])"
   ]
  },
  {
   "cell_type": "code",
   "execution_count": null,
   "id": "18ea31e1",
   "metadata": {},
   "outputs": [],
   "source": [
    "Question 3: List Comprehension\n",
    "\n",
    "Create a list named squares using a list comprehension that contains the squares of numbers from 1 to 10.\n",
    "\n",
    "Create a new list named even_squares using a list comprehension that contains the squares of even numbers from the squares list."
   ]
  },
  {
   "cell_type": "code",
   "execution_count": 13,
   "id": "70ed1de9",
   "metadata": {},
   "outputs": [
    {
     "data": {
      "text/plain": [
       "[1, 4, 9, 16, 25, 36, 49, 64, 81, 100]"
      ]
     },
     "execution_count": 13,
     "metadata": {},
     "output_type": "execute_result"
    }
   ],
   "source": [
    "squares = [i**2 for i in range(1,11)]\n",
    "squares"
   ]
  },
  {
   "cell_type": "code",
   "execution_count": 14,
   "id": "5a1b31f8",
   "metadata": {},
   "outputs": [
    {
     "data": {
      "text/plain": [
       "[4, 16, 36, 64, 100]"
      ]
     },
     "execution_count": 14,
     "metadata": {},
     "output_type": "execute_result"
    }
   ],
   "source": [
    "new_list = [i for i in squares if i%2==0]\n",
    "new_list"
   ]
  },
  {
   "cell_type": "code",
   "execution_count": null,
   "id": "df260e46",
   "metadata": {},
   "outputs": [],
   "source": [
    "Question 4: List Manipulation\n",
    "\n",
    "Create a list named colors containing the following items: \"red\", \"green\", \"blue\", \"yellow\", \"purple\".\n",
    "\n",
    "Swap the first and last elements of the list.\n",
    "\n",
    "Reverse the order of the list.\n",
    "\n",
    "Remove the second and third elements from the list."
   ]
  },
  {
   "cell_type": "code",
   "execution_count": 15,
   "id": "b8f18f31",
   "metadata": {},
   "outputs": [
    {
     "data": {
      "text/plain": [
       "['red', 'green', 'blue', 'yellow', 'purple']"
      ]
     },
     "execution_count": 15,
     "metadata": {},
     "output_type": "execute_result"
    }
   ],
   "source": [
    "colors = [\"red\", \"green\", \"blue\", \"yellow\", \"purple\"]\n",
    "colors"
   ]
  },
  {
   "cell_type": "code",
   "execution_count": 16,
   "id": "9f194c6c",
   "metadata": {},
   "outputs": [
    {
     "data": {
      "text/plain": [
       "['purple', 'green', 'blue', 'yellow', 'red']"
      ]
     },
     "execution_count": 16,
     "metadata": {},
     "output_type": "execute_result"
    }
   ],
   "source": [
    "c = colors[0]\n",
    "colors[0] = colors[-1]\n",
    "colors[-1] = c\n",
    "colors"
   ]
  },
  {
   "cell_type": "code",
   "execution_count": 17,
   "id": "4c6ed3fa",
   "metadata": {},
   "outputs": [
    {
     "data": {
      "text/plain": [
       "['red', 'yellow', 'blue', 'green', 'purple']"
      ]
     },
     "execution_count": 17,
     "metadata": {},
     "output_type": "execute_result"
    }
   ],
   "source": [
    "colors = colors[-1::-1]\n",
    "colors"
   ]
  },
  {
   "cell_type": "code",
   "execution_count": 18,
   "id": "2ed5babc",
   "metadata": {},
   "outputs": [
    {
     "data": {
      "text/plain": [
       "['red', 'yellow', 'purple']"
      ]
     },
     "execution_count": 18,
     "metadata": {},
     "output_type": "execute_result"
    }
   ],
   "source": [
    "colors.remove(colors[2])\n",
    "colors.remove(colors[2])\n",
    "colors"
   ]
  },
  {
   "cell_type": "code",
   "execution_count": null,
   "id": "0cca61db",
   "metadata": {},
   "outputs": [],
   "source": [
    "Question 5: Advanced Slicing\n",
    "\n",
    "Create a list named letters containing the letters from 'a' to 'j'.\n",
    "\n",
    "Using slicing, create a new list first_half containing the first half of the letters list.\n",
    "\n",
    "Using slicing, create a new list last_three containing the last three elements of the letters list."
   ]
  },
  {
   "cell_type": "code",
   "execution_count": 19,
   "id": "ec049195",
   "metadata": {},
   "outputs": [
    {
     "data": {
      "text/plain": [
       "['a', 'b', 'c', 'd', 'e', 'f']"
      ]
     },
     "execution_count": 19,
     "metadata": {},
     "output_type": "execute_result"
    }
   ],
   "source": [
    "letters = ['a', 'b', 'c', 'd','e', 'f', 'g', 'h', 'i', 'j']\n",
    "first_half = letters[0:(len(letters)//2)+1]\n",
    "first_half"
   ]
  },
  {
   "cell_type": "code",
   "execution_count": 20,
   "id": "3822cb1d",
   "metadata": {},
   "outputs": [
    {
     "data": {
      "text/plain": [
       "['h', 'i', 'j']"
      ]
     },
     "execution_count": 20,
     "metadata": {},
     "output_type": "execute_result"
    }
   ],
   "source": [
    "last_three=letters[-3:]\n",
    "last_three"
   ]
  },
  {
   "cell_type": "code",
   "execution_count": null,
   "id": "9e2fddd3",
   "metadata": {},
   "outputs": [],
   "source": [
    "Question 6: Nested Lists\n",
    "\n",
    "Create a nested list named matrix with the following rows:\n",
    "\n",
    "[1, 2, 3]\n",
    "[4, 5, 6]\n",
    "[7, 8, 9]\n",
    "Print the element in the second row and third column.\n",
    "\n",
    "Use nested indexing to change the value at the second row and first column to 0."
   ]
  },
  {
   "cell_type": "code",
   "execution_count": 21,
   "id": "961f8bae",
   "metadata": {},
   "outputs": [
    {
     "data": {
      "text/plain": [
       "[[1, 2, 3], [4, 5, 6], [7, 8, 9]]"
      ]
     },
     "execution_count": 21,
     "metadata": {},
     "output_type": "execute_result"
    }
   ],
   "source": [
    "matrix = [[1, 2, 3], [4, 5, 6], [7, 8, 9]]\n",
    "matrix"
   ]
  },
  {
   "cell_type": "code",
   "execution_count": 22,
   "id": "3c28a72e",
   "metadata": {},
   "outputs": [
    {
     "name": "stdout",
     "output_type": "stream",
     "text": [
      "6\n"
     ]
    }
   ],
   "source": [
    "print(matrix[1][2])"
   ]
  },
  {
   "cell_type": "code",
   "execution_count": 23,
   "id": "596f17b5",
   "metadata": {},
   "outputs": [
    {
     "data": {
      "text/plain": [
       "[[1, 2, 3], [0, 5, 6], [7, 8, 9]]"
      ]
     },
     "execution_count": 23,
     "metadata": {},
     "output_type": "execute_result"
    }
   ],
   "source": [
    "matrix[1][0]=0\n",
    "matrix"
   ]
  },
  {
   "cell_type": "code",
   "execution_count": null,
   "id": "97704334",
   "metadata": {},
   "outputs": [],
   "source": []
  }
 ],
 "metadata": {
  "kernelspec": {
   "display_name": "Python 3 (ipykernel)",
   "language": "python",
   "name": "python3"
  },
  "language_info": {
   "codemirror_mode": {
    "name": "ipython",
    "version": 3
   },
   "file_extension": ".py",
   "mimetype": "text/x-python",
   "name": "python",
   "nbconvert_exporter": "python",
   "pygments_lexer": "ipython3",
   "version": "3.11.3"
  }
 },
 "nbformat": 4,
 "nbformat_minor": 5
}
